{
 "cells": [
  {
   "cell_type": "markdown",
   "metadata": {},
   "source": [
    "### Hanan Sherka \n",
    "### Lab #6 - Midterm Project\n",
    "### Maternal Mortality and GDP Analysis\n",
    "### Sconyers, Period 2\n",
    "### Due: November 13th, 2018"
   ]
  },
  {
   "cell_type": "markdown",
   "metadata": {},
   "source": [
    "## Introduction "
   ]
  },
  {
   "cell_type": "markdown",
   "metadata": {},
   "source": [
    "In this lab, I analyzed maternal mortality rates of countries compared to their yearly GDP \n",
    "to explore possible correlation. I did this by merging two datasets - one on maternal mortality rates over time, and the other on yearly GDP over time- and compared the GDPs and maternal mortality rates across three years that had the most data. \n",
    "\n",
    "Maternal mortality in the context of this data is described as death of a woman while she is pregnant or withing 42 days after her pregnancy, if it is directly related to, in any way, her pregnancy. The ratios provided is the number of deaths per 100,000 live births. \n",
    "\n",
    "GDP in the context of this data is the yearly total GDP per capita. "
   ]
  },
  {
   "cell_type": "markdown",
   "metadata": {},
   "source": [
    "## Dataset Preparation "
   ]
  },
  {
   "cell_type": "markdown",
   "metadata": {},
   "source": [
    "### Data Sources "
   ]
  },
  {
   "cell_type": "markdown",
   "metadata": {},
   "source": [
    "    I acquired these datasets from gapminder, a website that provides international data on an array of topics.The GDP data actually originates from the World Bank data. I chose these two because I had assumptions about correlation before hand. \n",
    "    Link to Maternal Mortality Rates data: https://www.gapminder.org/data/documentation/gd010/\n",
    "    Link to Annual GDP data: https://data.worldbank.org/indicator/NY.GDP.PCAP.KD.ZG"
   ]
  },
  {
   "cell_type": "markdown",
   "metadata": {},
   "source": [
    "### Open, Read, and Basic Info "
   ]
  },
  {
   "cell_type": "code",
   "execution_count": 185,
   "metadata": {},
   "outputs": [],
   "source": [
    "# Always include aliased packages\n",
    "import math as m \n",
    "import numpy as np\n",
    "import scipy as sp \n",
    "import pandas as pd\n",
    "import matplotlib as mpl\n",
    "import matplotlib.pyplot as plt \n",
    "import seaborn as sns"
   ]
  },
  {
   "cell_type": "code",
   "execution_count": 186,
   "metadata": {},
   "outputs": [],
   "source": [
    "# One line to open and read an excel file into a data frame data structure, make the first row the header,\n",
    "# then close the file. \n",
    "df_gdp = pd.read_csv('gdp_total_yearly_growth.csv')\n",
    "df_mm = pd.read_csv('maternal_mortality_ratio_per_100000_live_births.csv')"
   ]
  },
  {
   "cell_type": "code",
   "execution_count": 187,
   "metadata": {},
   "outputs": [
    {
     "data": {
      "text/html": [
       "<div>\n",
       "<style scoped>\n",
       "    .dataframe tbody tr th:only-of-type {\n",
       "        vertical-align: middle;\n",
       "    }\n",
       "\n",
       "    .dataframe tbody tr th {\n",
       "        vertical-align: top;\n",
       "    }\n",
       "\n",
       "    .dataframe thead th {\n",
       "        text-align: right;\n",
       "    }\n",
       "</style>\n",
       "<table border=\"1\" class=\"dataframe\">\n",
       "  <thead>\n",
       "    <tr style=\"text-align: right;\">\n",
       "      <th></th>\n",
       "      <th>country</th>\n",
       "      <th>1801</th>\n",
       "      <th>1802</th>\n",
       "      <th>1803</th>\n",
       "      <th>1804</th>\n",
       "      <th>1805</th>\n",
       "      <th>1806</th>\n",
       "      <th>1807</th>\n",
       "      <th>1808</th>\n",
       "      <th>1809</th>\n",
       "      <th>...</th>\n",
       "      <th>2004</th>\n",
       "      <th>2005</th>\n",
       "      <th>2006</th>\n",
       "      <th>2007</th>\n",
       "      <th>2008</th>\n",
       "      <th>2009</th>\n",
       "      <th>2010</th>\n",
       "      <th>2011</th>\n",
       "      <th>2012</th>\n",
       "      <th>2013</th>\n",
       "    </tr>\n",
       "  </thead>\n",
       "  <tbody>\n",
       "    <tr>\n",
       "      <th>0</th>\n",
       "      <td>Afghanistan</td>\n",
       "      <td>0.000</td>\n",
       "      <td>0.000</td>\n",
       "      <td>0.000</td>\n",
       "      <td>0.000</td>\n",
       "      <td>0.000</td>\n",
       "      <td>0.000</td>\n",
       "      <td>0.000</td>\n",
       "      <td>0.000</td>\n",
       "      <td>0.000</td>\n",
       "      <td>...</td>\n",
       "      <td>6.55</td>\n",
       "      <td>12.40</td>\n",
       "      <td>4.56</td>\n",
       "      <td>13.600</td>\n",
       "      <td>2.50</td>\n",
       "      <td>20.20</td>\n",
       "      <td>8.04</td>\n",
       "      <td>6.98</td>\n",
       "      <td>14.80</td>\n",
       "      <td>4.47</td>\n",
       "    </tr>\n",
       "    <tr>\n",
       "      <th>1</th>\n",
       "      <td>Albania</td>\n",
       "      <td>0.418</td>\n",
       "      <td>0.418</td>\n",
       "      <td>0.418</td>\n",
       "      <td>0.418</td>\n",
       "      <td>0.418</td>\n",
       "      <td>0.418</td>\n",
       "      <td>0.418</td>\n",
       "      <td>0.418</td>\n",
       "      <td>0.418</td>\n",
       "      <td>...</td>\n",
       "      <td>5.97</td>\n",
       "      <td>5.53</td>\n",
       "      <td>5.77</td>\n",
       "      <td>5.850</td>\n",
       "      <td>7.24</td>\n",
       "      <td>3.28</td>\n",
       "      <td>3.36</td>\n",
       "      <td>2.86</td>\n",
       "      <td>2.64</td>\n",
       "      <td>2.06</td>\n",
       "    </tr>\n",
       "    <tr>\n",
       "      <th>2</th>\n",
       "      <td>Algeria</td>\n",
       "      <td>0.356</td>\n",
       "      <td>0.356</td>\n",
       "      <td>0.356</td>\n",
       "      <td>0.356</td>\n",
       "      <td>0.356</td>\n",
       "      <td>0.356</td>\n",
       "      <td>0.356</td>\n",
       "      <td>0.356</td>\n",
       "      <td>0.356</td>\n",
       "      <td>...</td>\n",
       "      <td>5.41</td>\n",
       "      <td>5.38</td>\n",
       "      <td>1.72</td>\n",
       "      <td>3.420</td>\n",
       "      <td>2.02</td>\n",
       "      <td>1.70</td>\n",
       "      <td>3.57</td>\n",
       "      <td>2.31</td>\n",
       "      <td>2.58</td>\n",
       "      <td>2.99</td>\n",
       "    </tr>\n",
       "    <tr>\n",
       "      <th>3</th>\n",
       "      <td>Andorra</td>\n",
       "      <td>0.166</td>\n",
       "      <td>0.166</td>\n",
       "      <td>0.166</td>\n",
       "      <td>0.166</td>\n",
       "      <td>0.166</td>\n",
       "      <td>0.166</td>\n",
       "      <td>0.166</td>\n",
       "      <td>0.166</td>\n",
       "      <td>0.166</td>\n",
       "      <td>...</td>\n",
       "      <td>8.64</td>\n",
       "      <td>7.80</td>\n",
       "      <td>4.97</td>\n",
       "      <td>0.161</td>\n",
       "      <td>-4.22</td>\n",
       "      <td>-5.06</td>\n",
       "      <td>-3.43</td>\n",
       "      <td>-2.83</td>\n",
       "      <td>NaN</td>\n",
       "      <td>NaN</td>\n",
       "    </tr>\n",
       "    <tr>\n",
       "      <th>4</th>\n",
       "      <td>Angola</td>\n",
       "      <td>0.425</td>\n",
       "      <td>0.425</td>\n",
       "      <td>0.425</td>\n",
       "      <td>0.425</td>\n",
       "      <td>0.425</td>\n",
       "      <td>0.425</td>\n",
       "      <td>0.425</td>\n",
       "      <td>0.425</td>\n",
       "      <td>0.425</td>\n",
       "      <td>...</td>\n",
       "      <td>11.20</td>\n",
       "      <td>20.50</td>\n",
       "      <td>18.60</td>\n",
       "      <td>23.200</td>\n",
       "      <td>13.80</td>\n",
       "      <td>2.39</td>\n",
       "      <td>3.45</td>\n",
       "      <td>3.87</td>\n",
       "      <td>4.96</td>\n",
       "      <td>3.79</td>\n",
       "    </tr>\n",
       "  </tbody>\n",
       "</table>\n",
       "<p>5 rows × 214 columns</p>\n",
       "</div>"
      ],
      "text/plain": [
       "       country   1801   1802   1803   1804   1805   1806   1807   1808   1809  \\\n",
       "0  Afghanistan  0.000  0.000  0.000  0.000  0.000  0.000  0.000  0.000  0.000   \n",
       "1      Albania  0.418  0.418  0.418  0.418  0.418  0.418  0.418  0.418  0.418   \n",
       "2      Algeria  0.356  0.356  0.356  0.356  0.356  0.356  0.356  0.356  0.356   \n",
       "3      Andorra  0.166  0.166  0.166  0.166  0.166  0.166  0.166  0.166  0.166   \n",
       "4       Angola  0.425  0.425  0.425  0.425  0.425  0.425  0.425  0.425  0.425   \n",
       "\n",
       "   ...    2004   2005   2006    2007   2008   2009  2010  2011   2012  2013  \n",
       "0  ...    6.55  12.40   4.56  13.600   2.50  20.20  8.04  6.98  14.80  4.47  \n",
       "1  ...    5.97   5.53   5.77   5.850   7.24   3.28  3.36  2.86   2.64  2.06  \n",
       "2  ...    5.41   5.38   1.72   3.420   2.02   1.70  3.57  2.31   2.58  2.99  \n",
       "3  ...    8.64   7.80   4.97   0.161  -4.22  -5.06 -3.43 -2.83    NaN   NaN  \n",
       "4  ...   11.20  20.50  18.60  23.200  13.80   2.39  3.45  3.87   4.96  3.79  \n",
       "\n",
       "[5 rows x 214 columns]"
      ]
     },
     "execution_count": 187,
     "metadata": {},
     "output_type": "execute_result"
    }
   ],
   "source": [
    "# Print the first couple of lines to ensure that everything is correct in the gdp data frame\n",
    "df_gdp.head ()"
   ]
  },
  {
   "cell_type": "code",
   "execution_count": 188,
   "metadata": {},
   "outputs": [
    {
     "name": "stdout",
     "output_type": "stream",
     "text": [
      "<class 'pandas.core.frame.DataFrame'>\n",
      "RangeIndex: 194 entries, 0 to 193\n",
      "Columns: 214 entries, country to 2013\n",
      "dtypes: float64(213), object(1)\n",
      "memory usage: 324.4+ KB\n"
     ]
    }
   ],
   "source": [
    "# Print basic information on the dataset about gdp \n",
    "df_gdp.info ()"
   ]
  },
  {
   "cell_type": "code",
   "execution_count": 189,
   "metadata": {},
   "outputs": [
    {
     "data": {
      "text/html": [
       "<div>\n",
       "<style scoped>\n",
       "    .dataframe tbody tr th:only-of-type {\n",
       "        vertical-align: middle;\n",
       "    }\n",
       "\n",
       "    .dataframe tbody tr th {\n",
       "        vertical-align: top;\n",
       "    }\n",
       "\n",
       "    .dataframe thead th {\n",
       "        text-align: right;\n",
       "    }\n",
       "</style>\n",
       "<table border=\"1\" class=\"dataframe\">\n",
       "  <thead>\n",
       "    <tr style=\"text-align: right;\">\n",
       "      <th></th>\n",
       "      <th>country</th>\n",
       "      <th>1800</th>\n",
       "      <th>1801</th>\n",
       "      <th>1802</th>\n",
       "      <th>1803</th>\n",
       "      <th>1804</th>\n",
       "      <th>1805</th>\n",
       "      <th>1806</th>\n",
       "      <th>1807</th>\n",
       "      <th>1808</th>\n",
       "      <th>...</th>\n",
       "      <th>2004</th>\n",
       "      <th>2005</th>\n",
       "      <th>2006</th>\n",
       "      <th>2007</th>\n",
       "      <th>2008</th>\n",
       "      <th>2009</th>\n",
       "      <th>2010</th>\n",
       "      <th>2011</th>\n",
       "      <th>2012</th>\n",
       "      <th>2013</th>\n",
       "    </tr>\n",
       "  </thead>\n",
       "  <tbody>\n",
       "    <tr>\n",
       "      <th>0</th>\n",
       "      <td>Afghanistan</td>\n",
       "      <td>NaN</td>\n",
       "      <td>NaN</td>\n",
       "      <td>NaN</td>\n",
       "      <td>NaN</td>\n",
       "      <td>NaN</td>\n",
       "      <td>NaN</td>\n",
       "      <td>NaN</td>\n",
       "      <td>NaN</td>\n",
       "      <td>NaN</td>\n",
       "      <td>...</td>\n",
       "      <td>NaN</td>\n",
       "      <td>730.0</td>\n",
       "      <td>NaN</td>\n",
       "      <td>NaN</td>\n",
       "      <td>NaN</td>\n",
       "      <td>NaN</td>\n",
       "      <td>500.0</td>\n",
       "      <td>NaN</td>\n",
       "      <td>NaN</td>\n",
       "      <td>400.0</td>\n",
       "    </tr>\n",
       "    <tr>\n",
       "      <th>1</th>\n",
       "      <td>Albania</td>\n",
       "      <td>NaN</td>\n",
       "      <td>NaN</td>\n",
       "      <td>NaN</td>\n",
       "      <td>NaN</td>\n",
       "      <td>NaN</td>\n",
       "      <td>NaN</td>\n",
       "      <td>NaN</td>\n",
       "      <td>NaN</td>\n",
       "      <td>NaN</td>\n",
       "      <td>...</td>\n",
       "      <td>NaN</td>\n",
       "      <td>24.0</td>\n",
       "      <td>NaN</td>\n",
       "      <td>NaN</td>\n",
       "      <td>NaN</td>\n",
       "      <td>NaN</td>\n",
       "      <td>21.0</td>\n",
       "      <td>NaN</td>\n",
       "      <td>NaN</td>\n",
       "      <td>21.0</td>\n",
       "    </tr>\n",
       "    <tr>\n",
       "      <th>2</th>\n",
       "      <td>Algeria</td>\n",
       "      <td>NaN</td>\n",
       "      <td>NaN</td>\n",
       "      <td>NaN</td>\n",
       "      <td>NaN</td>\n",
       "      <td>NaN</td>\n",
       "      <td>NaN</td>\n",
       "      <td>NaN</td>\n",
       "      <td>NaN</td>\n",
       "      <td>NaN</td>\n",
       "      <td>...</td>\n",
       "      <td>NaN</td>\n",
       "      <td>100.0</td>\n",
       "      <td>NaN</td>\n",
       "      <td>NaN</td>\n",
       "      <td>NaN</td>\n",
       "      <td>NaN</td>\n",
       "      <td>92.0</td>\n",
       "      <td>NaN</td>\n",
       "      <td>NaN</td>\n",
       "      <td>89.0</td>\n",
       "    </tr>\n",
       "    <tr>\n",
       "      <th>3</th>\n",
       "      <td>Andorra</td>\n",
       "      <td>NaN</td>\n",
       "      <td>NaN</td>\n",
       "      <td>NaN</td>\n",
       "      <td>NaN</td>\n",
       "      <td>NaN</td>\n",
       "      <td>NaN</td>\n",
       "      <td>NaN</td>\n",
       "      <td>NaN</td>\n",
       "      <td>NaN</td>\n",
       "      <td>...</td>\n",
       "      <td>NaN</td>\n",
       "      <td>NaN</td>\n",
       "      <td>NaN</td>\n",
       "      <td>NaN</td>\n",
       "      <td>NaN</td>\n",
       "      <td>NaN</td>\n",
       "      <td>NaN</td>\n",
       "      <td>NaN</td>\n",
       "      <td>NaN</td>\n",
       "      <td>NaN</td>\n",
       "    </tr>\n",
       "    <tr>\n",
       "      <th>4</th>\n",
       "      <td>Angola</td>\n",
       "      <td>NaN</td>\n",
       "      <td>NaN</td>\n",
       "      <td>NaN</td>\n",
       "      <td>NaN</td>\n",
       "      <td>NaN</td>\n",
       "      <td>NaN</td>\n",
       "      <td>NaN</td>\n",
       "      <td>NaN</td>\n",
       "      <td>NaN</td>\n",
       "      <td>...</td>\n",
       "      <td>NaN</td>\n",
       "      <td>750.0</td>\n",
       "      <td>NaN</td>\n",
       "      <td>NaN</td>\n",
       "      <td>NaN</td>\n",
       "      <td>NaN</td>\n",
       "      <td>530.0</td>\n",
       "      <td>NaN</td>\n",
       "      <td>NaN</td>\n",
       "      <td>460.0</td>\n",
       "    </tr>\n",
       "  </tbody>\n",
       "</table>\n",
       "<p>5 rows × 215 columns</p>\n",
       "</div>"
      ],
      "text/plain": [
       "       country  1800  1801  1802  1803  1804  1805  1806  1807  1808  ...    \\\n",
       "0  Afghanistan   NaN   NaN   NaN   NaN   NaN   NaN   NaN   NaN   NaN  ...     \n",
       "1      Albania   NaN   NaN   NaN   NaN   NaN   NaN   NaN   NaN   NaN  ...     \n",
       "2      Algeria   NaN   NaN   NaN   NaN   NaN   NaN   NaN   NaN   NaN  ...     \n",
       "3      Andorra   NaN   NaN   NaN   NaN   NaN   NaN   NaN   NaN   NaN  ...     \n",
       "4       Angola   NaN   NaN   NaN   NaN   NaN   NaN   NaN   NaN   NaN  ...     \n",
       "\n",
       "   2004   2005  2006  2007  2008  2009   2010  2011  2012   2013  \n",
       "0   NaN  730.0   NaN   NaN   NaN   NaN  500.0   NaN   NaN  400.0  \n",
       "1   NaN   24.0   NaN   NaN   NaN   NaN   21.0   NaN   NaN   21.0  \n",
       "2   NaN  100.0   NaN   NaN   NaN   NaN   92.0   NaN   NaN   89.0  \n",
       "3   NaN    NaN   NaN   NaN   NaN   NaN    NaN   NaN   NaN    NaN  \n",
       "4   NaN  750.0   NaN   NaN   NaN   NaN  530.0   NaN   NaN  460.0  \n",
       "\n",
       "[5 rows x 215 columns]"
      ]
     },
     "execution_count": 189,
     "metadata": {},
     "output_type": "execute_result"
    }
   ],
   "source": [
    "# Print the first couple of lines to ensure that everything is correct in the maternal mortality data frame \n",
    "df_mm.head ()"
   ]
  },
  {
   "cell_type": "code",
   "execution_count": 190,
   "metadata": {},
   "outputs": [
    {
     "name": "stdout",
     "output_type": "stream",
     "text": [
      "<class 'pandas.core.frame.DataFrame'>\n",
      "RangeIndex: 187 entries, 0 to 186\n",
      "Columns: 215 entries, country to 2013\n",
      "dtypes: float64(214), object(1)\n",
      "memory usage: 314.2+ KB\n"
     ]
    }
   ],
   "source": [
    "# Print basic information on the dataset about maternal mortality \n",
    "df_mm.info ()"
   ]
  },
  {
   "cell_type": "markdown",
   "metadata": {},
   "source": [
    "### Merging "
   ]
  },
  {
   "cell_type": "code",
   "execution_count": 191,
   "metadata": {
    "scrolled": true
   },
   "outputs": [
    {
     "data": {
      "text/html": [
       "<div>\n",
       "<style scoped>\n",
       "    .dataframe tbody tr th:only-of-type {\n",
       "        vertical-align: middle;\n",
       "    }\n",
       "\n",
       "    .dataframe tbody tr th {\n",
       "        vertical-align: top;\n",
       "    }\n",
       "\n",
       "    .dataframe thead th {\n",
       "        text-align: right;\n",
       "    }\n",
       "</style>\n",
       "<table border=\"1\" class=\"dataframe\">\n",
       "  <thead>\n",
       "    <tr style=\"text-align: right;\">\n",
       "      <th></th>\n",
       "      <th>country</th>\n",
       "      <th>2005_x</th>\n",
       "      <th>2010_x</th>\n",
       "      <th>2013_x</th>\n",
       "      <th>2005_y</th>\n",
       "      <th>2010_y</th>\n",
       "      <th>2013_y</th>\n",
       "    </tr>\n",
       "  </thead>\n",
       "  <tbody>\n",
       "    <tr>\n",
       "      <th>0</th>\n",
       "      <td>Afghanistan</td>\n",
       "      <td>730.0</td>\n",
       "      <td>500.0</td>\n",
       "      <td>400.0</td>\n",
       "      <td>12.40</td>\n",
       "      <td>8.04</td>\n",
       "      <td>4.47</td>\n",
       "    </tr>\n",
       "    <tr>\n",
       "      <th>1</th>\n",
       "      <td>Albania</td>\n",
       "      <td>24.0</td>\n",
       "      <td>21.0</td>\n",
       "      <td>21.0</td>\n",
       "      <td>5.53</td>\n",
       "      <td>3.36</td>\n",
       "      <td>2.06</td>\n",
       "    </tr>\n",
       "    <tr>\n",
       "      <th>2</th>\n",
       "      <td>Algeria</td>\n",
       "      <td>100.0</td>\n",
       "      <td>92.0</td>\n",
       "      <td>89.0</td>\n",
       "      <td>5.38</td>\n",
       "      <td>3.57</td>\n",
       "      <td>2.99</td>\n",
       "    </tr>\n",
       "    <tr>\n",
       "      <th>3</th>\n",
       "      <td>Andorra</td>\n",
       "      <td>NaN</td>\n",
       "      <td>NaN</td>\n",
       "      <td>NaN</td>\n",
       "      <td>7.80</td>\n",
       "      <td>-3.43</td>\n",
       "      <td>NaN</td>\n",
       "    </tr>\n",
       "    <tr>\n",
       "      <th>4</th>\n",
       "      <td>Angola</td>\n",
       "      <td>750.0</td>\n",
       "      <td>530.0</td>\n",
       "      <td>460.0</td>\n",
       "      <td>20.50</td>\n",
       "      <td>3.45</td>\n",
       "      <td>3.79</td>\n",
       "    </tr>\n",
       "  </tbody>\n",
       "</table>\n",
       "</div>"
      ],
      "text/plain": [
       "       country  2005_x  2010_x  2013_x  2005_y  2010_y  2013_y\n",
       "0  Afghanistan   730.0   500.0   400.0   12.40    8.04    4.47\n",
       "1      Albania    24.0    21.0    21.0    5.53    3.36    2.06\n",
       "2      Algeria   100.0    92.0    89.0    5.38    3.57    2.99\n",
       "3      Andorra     NaN     NaN     NaN    7.80   -3.43     NaN\n",
       "4       Angola   750.0   530.0   460.0   20.50    3.45    3.79"
      ]
     },
     "execution_count": 191,
     "metadata": {},
     "output_type": "execute_result"
    }
   ],
   "source": [
    "# Create a dataset for the years 2005, 2010, and 2013, that has the GDP and Maternal Mortality rates\n",
    "df_2011 = pd.merge (df_mm [['country','2005', '2010', '2013']],\n",
    "                   df_gdp [['country', '2005', '2010', '2013']],\n",
    "                    on = 'country')\n",
    "df_2011.head ()"
   ]
  },
  {
   "cell_type": "code",
   "execution_count": 192,
   "metadata": {},
   "outputs": [
    {
     "data": {
      "text/html": [
       "<div>\n",
       "<style scoped>\n",
       "    .dataframe tbody tr th:only-of-type {\n",
       "        vertical-align: middle;\n",
       "    }\n",
       "\n",
       "    .dataframe tbody tr th {\n",
       "        vertical-align: top;\n",
       "    }\n",
       "\n",
       "    .dataframe thead th {\n",
       "        text-align: right;\n",
       "    }\n",
       "</style>\n",
       "<table border=\"1\" class=\"dataframe\">\n",
       "  <thead>\n",
       "    <tr style=\"text-align: right;\">\n",
       "      <th></th>\n",
       "      <th>country</th>\n",
       "      <th>2005_mm</th>\n",
       "      <th>2010_mm</th>\n",
       "      <th>2013_mm</th>\n",
       "      <th>2005_gdp</th>\n",
       "      <th>2010_gdp</th>\n",
       "      <th>2013_gdp</th>\n",
       "    </tr>\n",
       "  </thead>\n",
       "  <tbody>\n",
       "    <tr>\n",
       "      <th>0</th>\n",
       "      <td>Afghanistan</td>\n",
       "      <td>730.0</td>\n",
       "      <td>500.0</td>\n",
       "      <td>400.0</td>\n",
       "      <td>12.40</td>\n",
       "      <td>8.04</td>\n",
       "      <td>4.47</td>\n",
       "    </tr>\n",
       "    <tr>\n",
       "      <th>1</th>\n",
       "      <td>Albania</td>\n",
       "      <td>24.0</td>\n",
       "      <td>21.0</td>\n",
       "      <td>21.0</td>\n",
       "      <td>5.53</td>\n",
       "      <td>3.36</td>\n",
       "      <td>2.06</td>\n",
       "    </tr>\n",
       "    <tr>\n",
       "      <th>2</th>\n",
       "      <td>Algeria</td>\n",
       "      <td>100.0</td>\n",
       "      <td>92.0</td>\n",
       "      <td>89.0</td>\n",
       "      <td>5.38</td>\n",
       "      <td>3.57</td>\n",
       "      <td>2.99</td>\n",
       "    </tr>\n",
       "    <tr>\n",
       "      <th>3</th>\n",
       "      <td>Andorra</td>\n",
       "      <td>NaN</td>\n",
       "      <td>NaN</td>\n",
       "      <td>NaN</td>\n",
       "      <td>7.80</td>\n",
       "      <td>-3.43</td>\n",
       "      <td>NaN</td>\n",
       "    </tr>\n",
       "    <tr>\n",
       "      <th>4</th>\n",
       "      <td>Angola</td>\n",
       "      <td>750.0</td>\n",
       "      <td>530.0</td>\n",
       "      <td>460.0</td>\n",
       "      <td>20.50</td>\n",
       "      <td>3.45</td>\n",
       "      <td>3.79</td>\n",
       "    </tr>\n",
       "  </tbody>\n",
       "</table>\n",
       "</div>"
      ],
      "text/plain": [
       "       country  2005_mm  2010_mm  2013_mm  2005_gdp  2010_gdp  2013_gdp\n",
       "0  Afghanistan    730.0    500.0    400.0     12.40      8.04      4.47\n",
       "1      Albania     24.0     21.0     21.0      5.53      3.36      2.06\n",
       "2      Algeria    100.0     92.0     89.0      5.38      3.57      2.99\n",
       "3      Andorra      NaN      NaN      NaN      7.80     -3.43       NaN\n",
       "4       Angola    750.0    530.0    460.0     20.50      3.45      3.79"
      ]
     },
     "execution_count": 192,
     "metadata": {},
     "output_type": "execute_result"
    }
   ],
   "source": [
    "# Set the country names to be the index in the GDP data frame \n",
    "df_2011.rename(columns={df_2011.columns[1]: \"2005_mm\",\n",
    "                         df_2011.columns[2]: \"2010_mm\",\n",
    "                         df_2011.columns[3]: \"2013_mm\",\n",
    "                         df_2011.columns[4]: \"2005_gdp\",\n",
    "                         df_2011.columns[5]: \"2010_gdp\",\n",
    "                         df_2011.columns[6]: \"2013_gdp\",}, \n",
    "                 inplace=True)\n",
    "df_2011.head(187)\n",
    "df_2011.head ()"
   ]
  },
  {
   "cell_type": "markdown",
   "metadata": {},
   "source": [
    "## Data Modeling "
   ]
  },
  {
   "cell_type": "markdown",
   "metadata": {},
   "source": [
    "### Finding Correlation Coefficient "
   ]
  },
  {
   "cell_type": "raw",
   "metadata": {},
   "source": [
    "I found the correlation coefficient between the gdp and maternal mortality for 2005, 2010, and 2013"
   ]
  },
  {
   "cell_type": "code",
   "execution_count": 193,
   "metadata": {},
   "outputs": [
    {
     "data": {
      "text/html": [
       "<div>\n",
       "<style scoped>\n",
       "    .dataframe tbody tr th:only-of-type {\n",
       "        vertical-align: middle;\n",
       "    }\n",
       "\n",
       "    .dataframe tbody tr th {\n",
       "        vertical-align: top;\n",
       "    }\n",
       "\n",
       "    .dataframe thead th {\n",
       "        text-align: right;\n",
       "    }\n",
       "</style>\n",
       "<table border=\"1\" class=\"dataframe\">\n",
       "  <thead>\n",
       "    <tr style=\"text-align: right;\">\n",
       "      <th></th>\n",
       "      <th>2005_gdp</th>\n",
       "      <th>2005_mm</th>\n",
       "    </tr>\n",
       "  </thead>\n",
       "  <tbody>\n",
       "    <tr>\n",
       "      <th>2005_gdp</th>\n",
       "      <td>1.000000</td>\n",
       "      <td>0.041696</td>\n",
       "    </tr>\n",
       "    <tr>\n",
       "      <th>2005_mm</th>\n",
       "      <td>0.041696</td>\n",
       "      <td>1.000000</td>\n",
       "    </tr>\n",
       "  </tbody>\n",
       "</table>\n",
       "</div>"
      ],
      "text/plain": [
       "          2005_gdp   2005_mm\n",
       "2005_gdp  1.000000  0.041696\n",
       "2005_mm   0.041696  1.000000"
      ]
     },
     "execution_count": 193,
     "metadata": {},
     "output_type": "execute_result"
    }
   ],
   "source": [
    "# Created a new dataframe that included just 2005 gdp and maternal mortality, and found the\n",
    "# correlation coeffiecient\n",
    "df_new2005 = df_2011[['2005_gdp', '2005_mm']]\n",
    "df_new2005.corr()"
   ]
  },
  {
   "cell_type": "code",
   "execution_count": 194,
   "metadata": {},
   "outputs": [
    {
     "data": {
      "text/html": [
       "<div>\n",
       "<style scoped>\n",
       "    .dataframe tbody tr th:only-of-type {\n",
       "        vertical-align: middle;\n",
       "    }\n",
       "\n",
       "    .dataframe tbody tr th {\n",
       "        vertical-align: top;\n",
       "    }\n",
       "\n",
       "    .dataframe thead th {\n",
       "        text-align: right;\n",
       "    }\n",
       "</style>\n",
       "<table border=\"1\" class=\"dataframe\">\n",
       "  <thead>\n",
       "    <tr style=\"text-align: right;\">\n",
       "      <th></th>\n",
       "      <th>2010_gdp</th>\n",
       "      <th>2010_mm</th>\n",
       "    </tr>\n",
       "  </thead>\n",
       "  <tbody>\n",
       "    <tr>\n",
       "      <th>2010_gdp</th>\n",
       "      <td>1.00000</td>\n",
       "      <td>0.16503</td>\n",
       "    </tr>\n",
       "    <tr>\n",
       "      <th>2010_mm</th>\n",
       "      <td>0.16503</td>\n",
       "      <td>1.00000</td>\n",
       "    </tr>\n",
       "  </tbody>\n",
       "</table>\n",
       "</div>"
      ],
      "text/plain": [
       "          2010_gdp  2010_mm\n",
       "2010_gdp   1.00000  0.16503\n",
       "2010_mm    0.16503  1.00000"
      ]
     },
     "execution_count": 194,
     "metadata": {},
     "output_type": "execute_result"
    }
   ],
   "source": [
    "# Created a new dataframe that included just 2005 gdp and maternal mortality, and found the\n",
    "# correlation coeffiecient\n",
    "df_new2010 = df_2011[['2010_gdp', '2010_mm']]\n",
    "df_new2010.corr()"
   ]
  },
  {
   "cell_type": "code",
   "execution_count": 195,
   "metadata": {},
   "outputs": [
    {
     "data": {
      "text/html": [
       "<div>\n",
       "<style scoped>\n",
       "    .dataframe tbody tr th:only-of-type {\n",
       "        vertical-align: middle;\n",
       "    }\n",
       "\n",
       "    .dataframe tbody tr th {\n",
       "        vertical-align: top;\n",
       "    }\n",
       "\n",
       "    .dataframe thead th {\n",
       "        text-align: right;\n",
       "    }\n",
       "</style>\n",
       "<table border=\"1\" class=\"dataframe\">\n",
       "  <thead>\n",
       "    <tr style=\"text-align: right;\">\n",
       "      <th></th>\n",
       "      <th>2013_gdp</th>\n",
       "      <th>2013_mm</th>\n",
       "    </tr>\n",
       "  </thead>\n",
       "  <tbody>\n",
       "    <tr>\n",
       "      <th>2013_gdp</th>\n",
       "      <td>1.000000</td>\n",
       "      <td>0.190953</td>\n",
       "    </tr>\n",
       "    <tr>\n",
       "      <th>2013_mm</th>\n",
       "      <td>0.190953</td>\n",
       "      <td>1.000000</td>\n",
       "    </tr>\n",
       "  </tbody>\n",
       "</table>\n",
       "</div>"
      ],
      "text/plain": [
       "          2013_gdp   2013_mm\n",
       "2013_gdp  1.000000  0.190953\n",
       "2013_mm   0.190953  1.000000"
      ]
     },
     "execution_count": 195,
     "metadata": {},
     "output_type": "execute_result"
    }
   ],
   "source": [
    "# Created a new dataframe that included just 2005 gdp and maternal mortality, and found the\n",
    "# correlation coeffiecient\n",
    "df_new2013 = df_2011[['2013_gdp', '2013_mm']]\n",
    "df_new2013.corr()"
   ]
  },
  {
   "cell_type": "markdown",
   "metadata": {},
   "source": [
    "### Data Visualizations "
   ]
  },
  {
   "cell_type": "code",
   "execution_count": 196,
   "metadata": {},
   "outputs": [
    {
     "data": {
      "text/plain": [
       "<seaborn.axisgrid.FacetGrid at 0x2469769c4e0>"
      ]
     },
     "execution_count": 196,
     "metadata": {},
     "output_type": "execute_result"
    },
    {
     "data": {
      "image/png": "[encoded data removed]",
      "text/plain": [
       "<Figure size 360x360 with 1 Axes>"
      ]
     },
     "metadata": {
      "needs_background": "light"
     },
     "output_type": "display_data"
    }
   ],
   "source": [
    "# I created a scatter plot to visually analyze and trends in data for 2005 when comparing \n",
    "# maternal mortality and gdp \n",
    "sns.relplot(x=\"2005_gdp\", y=\"2005_mm\",\n",
    "            data = df_new2005, kind=\"scatter\")\n"
   ]
  },
  {
   "cell_type": "code",
   "execution_count": 197,
   "metadata": {},
   "outputs": [
    {
     "data": {
      "text/plain": [
       "<seaborn.axisgrid.FacetGrid at 0x24697699ef0>"
      ]
     },
     "execution_count": 197,
     "metadata": {},
     "output_type": "execute_result"
    },
    {
     "data": {
      "image/png": "[encoded data removed]",
      "text/plain": [
       "<Figure size 360x360 with 1 Axes>"
      ]
     },
     "metadata": {
      "needs_background": "light"
     },
     "output_type": "display_data"
    }
   ],
   "source": [
    "# I created a scatter plot to visually analyze and trends in data for 2010 when comparing \n",
    "# maternal mortality and gdp \n",
    "sns.relplot(x=\"2010_gdp\", y = \"2010_mm\", \n",
    "            data = df_new2010, kind=\"scatter\" )\n"
   ]
  },
  {
   "cell_type": "code",
   "execution_count": 198,
   "metadata": {},
   "outputs": [
    {
     "data": {
      "text/plain": [
       "<seaborn.axisgrid.FacetGrid at 0x24698728f28>"
      ]
     },
     "execution_count": 198,
     "metadata": {},
     "output_type": "execute_result"
    },
    {
     "data": {
      "image/png": "[encoded data removed]",
      "text/plain": [
       "<Figure size 360x360 with 1 Axes>"
      ]
     },
     "metadata": {
      "needs_background": "light"
     },
     "output_type": "display_data"
    }
   ],
   "source": [
    "# I created a scatter plot to visually analyze and trends in data for 2013 when comparing \n",
    "# maternal mortality and gdp \n",
    "sns.relplot(x=\"2013_gdp\", y = \"2013_mm\",  \n",
    "            data = df_new2013, kind=\"scatter\" )\n"
   ]
  },
  {
   "cell_type": "markdown",
   "metadata": {},
   "source": [
    "## Analysis and Conclusion "
   ]
  },
  {
   "cell_type": "markdown",
   "metadata": {},
   "source": [
    "From the data modeling I did from this lab, I have concluded that the annual GDP per capita in a country does not correlate with the maternal mortality rate of said country. Initially, I took three separate years - 2005, 2010, and 2013 - and I found the correlation coefficient of each year. The magnitude of all three correlation coefficients was quite low, the highest being in 2013, with a correlation coefficient of approximately 0.19. This is a positive correlation, but, being signifiantly below .5, I think the correlation is not strong enough to be of any significance.\n",
    "   \n",
    "I then tried to visually analyze this through scatter plots for each of this years. But, it became clear that regardless of GDP, there was a large range of maternal mortality rates per country, and there was not recognizable trend in that regard. However, I realized that when comparing the three years, that the GDP was increasing. In 2013, the GDPs are mostly concentrated between 0 and 10, but in 2010, GDP it is spread mostly between -5 and 0. \n",
    "   \n",
    "One thing I would like to further look into is how GDP has changed over the years, and whether there is a correlation between year and GDP. I would also like to look into how other factors would affect maternal mortality, such as number of hospitals per a certain number group of people. I would do this if I had more time, and is an area possible for further exploration.  "
   ]
  },
  {
   "cell_type": "markdown",
   "metadata": {},
   "source": [
    "## Acknowledgements"
   ]
  },
  {
   "cell_type": "markdown",
   "metadata": {},
   "source": [
    "I would like to acknowledge Ms. Sconyers for providing code on merging two datasets, and creating new dataframes using columns from existing ones. I also used code I got from this website to find how to find correlation coefficients: http://benalexkeen.com/correlation-in-python/. Lastly, I used code from the class \"Useful Visualizations\" document, to create my scatterplots from this lab. "
   ]
  }
 ],
 "metadata": {
  "kernelspec": {
   "display_name": "Python 3",
   "language": "python",
   "name": "python3"
  },
  "language_info": {
   "codemirror_mode": {
    "name": "ipython",
    "version": 3
   },
   "file_extension": ".py",
   "mimetype": "text/x-python",
   "name": "python",
   "nbconvert_exporter": "python",
   "pygments_lexer": "ipython3",
   "version": "3.7.0"
  }
 },
 "nbformat": 4,
 "nbformat_minor": 2
}
